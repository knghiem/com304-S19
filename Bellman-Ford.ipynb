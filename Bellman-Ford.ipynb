{
 "cells": [
  {
   "cell_type": "markdown",
   "metadata": {},
   "source": [
    "Khanh Nghiem  \n",
    "Last updated: 01/04/19  \n",
    "Bellman-Ford Shortest Path algorithm  \n",
    "**Input**: connected and directed graph G with no negative cycles, start vertex s, destination vertex t  \n",
    "**Output**: the shortest path from s to t\n",
    "\n",
    "## Bellman-Ford Algorithm\n",
    "\n",
    "- Let n = |V|\n",
    "- Initialize a 2-D array OPT (v in V) * (0-> n-1)\n",
    "- Set OPT\\[0,t\\] = 0\n",
    "- for all v != t:\n",
    "    OPT\\[0,v\\] = infinity\n",
    "- for all i = 1...n-1:\n",
    "    + for v in V:\n",
    "        - OPT\\[i,v\\] = min(c(v,w) + OPT\\[i-1, w\\]), for w in S = all nodes where vw is an edge"
   ]
  },
  {
   "cell_type": "code",
   "execution_count": 7,
   "metadata": {},
   "outputs": [],
   "source": [
    "def print_graph(G):\n",
    "    for n, nbrs in G.adj.items():\n",
    "        for nbr, eattr in nbrs.items():\n",
    "            wt = eattr['weight']\n",
    "            print('(%d, %d, %.3f)' % (n, nbr, wt))"
   ]
  },
  {
   "cell_type": "code",
   "execution_count": 8,
   "metadata": {},
   "outputs": [
    {
     "name": "stdout",
     "output_type": "stream",
     "text": [
      "(1, 2, 0.125)\n",
      "(1, 3, 0.750)\n",
      "(2, 4, 1.200)\n",
      "(3, 4, 0.375)\n"
     ]
    }
   ],
   "source": [
    "import networkx as nx\n",
    "\n",
    "test_graph_1 = [(1, 2, 0.125), (1, 3, 0.75), (2, 4, 1.2), (3, 4, 0.375)]\n",
    "\n",
    "G = nx.DiGraph()\n",
    "G.add_weighted_edges_from(test_graph_1)\n",
    "print_graph(G)"
   ]
  },
  {
   "cell_type": "code",
   "execution_count": 11,
   "metadata": {},
   "outputs": [
    {
     "data": {
      "image/png": "[encoded data removed]",
      "text/plain": [
       "<Figure size 432x288 with 1 Axes>"
      ]
     },
     "metadata": {},
     "output_type": "display_data"
    }
   ],
   "source": [
    "import matplotlib.pyplot as plt\n",
    "weights = nx.get_edge_attributes(G,'weight')\n",
    "pos = nx.spring_layout(G)\n",
    "nx.draw(G,pos,with_labels = True)\n",
    "nx.draw_networkx_edge_labels(G,pos,edge_labels=weights)\n",
    "plt.draw()"
   ]
  },
  {
   "cell_type": "code",
   "execution_count": 10,
   "metadata": {},
   "outputs": [
    {
     "name": "stdout",
     "output_type": "stream",
     "text": [
      "1.125\n"
     ]
    }
   ],
   "source": [
    "from sys import maxsize as infinity\n",
    "\n",
    "# a utility function to OPT(i, v) based on OPT(i-1, w) for w is an out neighbor of v\n",
    "def find_min(G, OPT, v, i):\n",
    "    V = list(G.nodes())\n",
    "    # bench mark for comparison\n",
    "    cur_min = OPT[i-1][V.index(v)]\n",
    "    \n",
    "    # loop through all out neighbors of v\n",
    "    out_neighbors = list(G.successors(v))\n",
    "    \n",
    "    for w in out_neighbors:\n",
    "        cur_min = min((OPT[i-1][V.index(w)] + G.edges[v,w]['weight']), cur_min)\n",
    "\n",
    "    return cur_min\n",
    "    \n",
    "\n",
    "def bellman_ford(G, s, t):\n",
    "    n = G.number_of_nodes()\n",
    "    V = list(G.nodes())\n",
    "    \n",
    "    # 2-D array for memoization\n",
    "    OPT = [[None]*n]*n\n",
    "    \n",
    "    # OPT(0, v) = infinity for all nodes except t\n",
    "    for i in range(n):\n",
    "        OPT[0][i] = infinity\n",
    "    \n",
    "    # set OPT(0, t) = 0\n",
    "    OPT[0][V.index(t)] = 0\n",
    "    \n",
    "    for i in range(1,n):\n",
    "        for v in V:\n",
    "            OPT[i][V.index(v)] = find_min(G, OPT, v, i)\n",
    "    \n",
    "    return OPT[n-1][V.index(s)]\n",
    "\n",
    "print(bellman_ford(G, 1, 4))"
   ]
  },
  {
   "cell_type": "code",
   "execution_count": null,
   "metadata": {},
   "outputs": [],
   "source": []
  }
 ],
 "metadata": {
  "kernelspec": {
   "display_name": "Python 3",
   "language": "python",
   "name": "python3"
  },
  "language_info": {
   "codemirror_mode": {
    "name": "ipython",
    "version": 3
   },
   "file_extension": ".py",
   "mimetype": "text/x-python",
   "name": "python",
   "nbconvert_exporter": "python",
   "pygments_lexer": "ipython3",
   "version": "3.6.5"
  }
 },
 "nbformat": 4,
 "nbformat_minor": 2
}
